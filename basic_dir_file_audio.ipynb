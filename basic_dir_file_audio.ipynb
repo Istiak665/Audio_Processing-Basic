{
 "cells": [
  {
   "cell_type": "code",
   "execution_count": 16,
   "id": "2d03ae7d",
   "metadata": {},
   "outputs": [],
   "source": [
    "import os\n",
    "import numpy as np"
   ]
  },
  {
   "cell_type": "code",
   "execution_count": 22,
   "id": "a7c53b64",
   "metadata": {},
   "outputs": [],
   "source": [
    "path = 'audio/'"
   ]
  },
  {
   "cell_type": "code",
   "execution_count": 23,
   "id": "5ba0b8ea",
   "metadata": {},
   "outputs": [
    {
     "name": "stdout",
     "output_type": "stream",
     "text": [
      "['bulldozer_wav', 'dump_truck_wav']\n"
     ]
    }
   ],
   "source": [
    "# All sub directories in main path\n",
    "subdir = os.listdir(path)\n",
    "print(subdir)"
   ]
  },
  {
   "cell_type": "code",
   "execution_count": 26,
   "id": "a69490a1",
   "metadata": {},
   "outputs": [
    {
     "name": "stdout",
     "output_type": "stream",
     "text": [
      "Dir : bulldozer_wav\n",
      "Dir : dump_truck_wav\n"
     ]
    }
   ],
   "source": [
    "for eachsubdir in subdir:\n",
    "        audio_path = os.path.join('path/' + eachsubdir)\n",
    "        print(\"Dir : %s\" % eachsubdir)\n",
    "#         print(audio_path)"
   ]
  },
  {
   "cell_type": "code",
   "execution_count": 29,
   "id": "6f4026aa",
   "metadata": {},
   "outputs": [],
   "source": [
    "num_sources = 3\n",
    "mixing_weights = np.random.rand(num_sources)\n",
    "mixing_weights /= np.sum(mixing_weights)"
   ]
  },
  {
   "cell_type": "code",
   "execution_count": 30,
   "id": "355794da",
   "metadata": {},
   "outputs": [
    {
     "name": "stdout",
     "output_type": "stream",
     "text": [
      "[0.31101699 0.55561716 0.13336585]\n"
     ]
    }
   ],
   "source": [
    "print(mixing_weights)"
   ]
  },
  {
   "cell_type": "code",
   "execution_count": null,
   "id": "9a1acd5d",
   "metadata": {},
   "outputs": [],
   "source": []
  },
  {
   "cell_type": "code",
   "execution_count": null,
   "id": "0d118d0d",
   "metadata": {},
   "outputs": [],
   "source": []
  }
 ],
 "metadata": {
  "kernelspec": {
   "display_name": "Python 3 (ipykernel)",
   "language": "python",
   "name": "python3"
  },
  "language_info": {
   "codemirror_mode": {
    "name": "ipython",
    "version": 3
   },
   "file_extension": ".py",
   "mimetype": "text/x-python",
   "name": "python",
   "nbconvert_exporter": "python",
   "pygments_lexer": "ipython3",
   "version": "3.8.3"
  }
 },
 "nbformat": 4,
 "nbformat_minor": 5
}
